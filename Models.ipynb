{
  "cells": [
    {
      "cell_type": "code",
      "execution_count": 7,
      "metadata": {
        "id": "cERXU2GmwweJ"
      },
      "outputs": [],
      "source": [
        "import sklearn.datasets\n",
        "import numpy as np\n",
        "import random\n",
        "import pandas as pd\n",
        "#X = data[\"data\"]\n",
        "#y = data[\"target\"]\n",
        "from numpy import mean\n",
        "from numpy import std\n",
        "from pandas import read_csv\n",
        "from sklearn.preprocessing import LabelEncoder\n",
        "from sklearn.model_selection import train_test_split\n",
        "import xgboost as xgb\n",
        "import numpy as np\n",
        "from sklearn.metrics import accuracy_score, confusion_matrix\n",
        "import matplotlib as plt"
      ]
    },
    {
      "cell_type": "code",
      "execution_count": 2,
      "metadata": {
        "id": "YYXL9Hscfih0"
      },
      "outputs": [],
      "source": [
        "from sklearn.tree import DecisionTreeClassifier\n",
        "from sklearn.linear_model import LogisticRegression\n",
        "from sklearn.ensemble import RandomForestClassifier\n",
        "from sklearn.metrics import mean_absolute_error\n",
        "from sklearn.naive_bayes import GaussianNB\n",
        "from time import process_time\n",
        "from sklearn import datasets\n",
        "from sklearn.model_selection import train_test_split\n",
        "from sklearn.feature_selection import SelectFromModel\n",
        "from sklearn.metrics import accuracy_score\n",
        "from sklearn.feature_selection import RFE\n",
        "from sklearn.metrics import roc_auc_score\n",
        "from sklearn.metrics import classification_report,confusion_matrix\n",
        "from sklearn.model_selection import cross_val_score, cross_val_predict, KFold"
      ]
    },
    {
      "cell_type": "code",
      "execution_count": 3,
      "metadata": {
        "colab": {
          "base_uri": "https://localhost:8080/",
          "height": 488
        },
        "id": "wbGU0G-PxEuy",
        "outputId": "4d948eb9-775b-460b-835f-e457c774efd9"
      },
      "outputs": [
        {
          "data": {
            "text/html": [
              "\n",
              "  <div id=\"df-e90b623d-4d3c-4348-80a0-2de99934bbcb\">\n",
              "    <div class=\"colab-df-container\">\n",
              "      <div>\n",
              "<style scoped>\n",
              "    .dataframe tbody tr th:only-of-type {\n",
              "        vertical-align: middle;\n",
              "    }\n",
              "\n",
              "    .dataframe tbody tr th {\n",
              "        vertical-align: top;\n",
              "    }\n",
              "\n",
              "    .dataframe thead th {\n",
              "        text-align: right;\n",
              "    }\n",
              "</style>\n",
              "<table border=\"1\" class=\"dataframe\">\n",
              "  <thead>\n",
              "    <tr style=\"text-align: right;\">\n",
              "      <th></th>\n",
              "      <th>position_id</th>\n",
              "      <th>attribute_value_ml_acceleration</th>\n",
              "      <th>attribute_value_ml_aerial_ability</th>\n",
              "      <th>attribute_value_ml_agility</th>\n",
              "      <th>attribute_value_ml_anticipation</th>\n",
              "      <th>attribute_value_ml_balance</th>\n",
              "      <th>attribute_value_ml_bravery</th>\n",
              "      <th>attribute_value_ml_command_of_area</th>\n",
              "      <th>attribute_value_ml_communication</th>\n",
              "      <th>attribute_value_ml_composure</th>\n",
              "      <th>...</th>\n",
              "      <th>attribute_value_ml_positive_aggression</th>\n",
              "      <th>attribute_value_ml_reflexes</th>\n",
              "      <th>attribute_value_ml_stamina</th>\n",
              "      <th>attribute_value_ml_strength</th>\n",
              "      <th>attribute_value_ml_tackling</th>\n",
              "      <th>attribute_value_ml_team_work</th>\n",
              "      <th>attribute_value_ml_technique</th>\n",
              "      <th>attribute_value_ml_weakfoot</th>\n",
              "      <th>attribute_value_ml_workrate</th>\n",
              "      <th>Label_Category_Num</th>\n",
              "    </tr>\n",
              "  </thead>\n",
              "  <tbody>\n",
              "    <tr>\n",
              "      <th>0</th>\n",
              "      <td>2</td>\n",
              "      <td>42.505460</td>\n",
              "      <td>30.394741</td>\n",
              "      <td>42.505460</td>\n",
              "      <td>30.394741</td>\n",
              "      <td>42.505460</td>\n",
              "      <td>30.394741</td>\n",
              "      <td>50.650274</td>\n",
              "      <td>30.394741</td>\n",
              "      <td>30.394741</td>\n",
              "      <td>...</td>\n",
              "      <td>51.028497</td>\n",
              "      <td>52.749609</td>\n",
              "      <td>42.505460</td>\n",
              "      <td>42.505460</td>\n",
              "      <td>30.394741</td>\n",
              "      <td>30.394741</td>\n",
              "      <td>30.394741</td>\n",
              "      <td>43.803327</td>\n",
              "      <td>42.505460</td>\n",
              "      <td>0</td>\n",
              "    </tr>\n",
              "    <tr>\n",
              "      <th>1</th>\n",
              "      <td>10</td>\n",
              "      <td>42.505460</td>\n",
              "      <td>55.412505</td>\n",
              "      <td>42.505460</td>\n",
              "      <td>42.505460</td>\n",
              "      <td>55.412505</td>\n",
              "      <td>42.505460</td>\n",
              "      <td>50.650274</td>\n",
              "      <td>42.505460</td>\n",
              "      <td>42.505460</td>\n",
              "      <td>...</td>\n",
              "      <td>51.028497</td>\n",
              "      <td>52.749609</td>\n",
              "      <td>55.412505</td>\n",
              "      <td>55.412505</td>\n",
              "      <td>42.505460</td>\n",
              "      <td>55.412505</td>\n",
              "      <td>42.505460</td>\n",
              "      <td>43.803327</td>\n",
              "      <td>42.505460</td>\n",
              "      <td>0</td>\n",
              "    </tr>\n",
              "    <tr>\n",
              "      <th>2</th>\n",
              "      <td>5</td>\n",
              "      <td>55.412505</td>\n",
              "      <td>42.505460</td>\n",
              "      <td>55.412505</td>\n",
              "      <td>55.412505</td>\n",
              "      <td>55.412505</td>\n",
              "      <td>55.412505</td>\n",
              "      <td>50.650274</td>\n",
              "      <td>55.412505</td>\n",
              "      <td>55.412505</td>\n",
              "      <td>...</td>\n",
              "      <td>51.028497</td>\n",
              "      <td>52.749609</td>\n",
              "      <td>55.412505</td>\n",
              "      <td>42.505460</td>\n",
              "      <td>42.505460</td>\n",
              "      <td>55.412505</td>\n",
              "      <td>42.505460</td>\n",
              "      <td>43.803327</td>\n",
              "      <td>55.412505</td>\n",
              "      <td>0</td>\n",
              "    </tr>\n",
              "    <tr>\n",
              "      <th>3</th>\n",
              "      <td>3</td>\n",
              "      <td>70.506566</td>\n",
              "      <td>42.505460</td>\n",
              "      <td>55.412505</td>\n",
              "      <td>42.505460</td>\n",
              "      <td>55.412505</td>\n",
              "      <td>42.505460</td>\n",
              "      <td>50.650274</td>\n",
              "      <td>30.394741</td>\n",
              "      <td>42.505460</td>\n",
              "      <td>...</td>\n",
              "      <td>51.028497</td>\n",
              "      <td>52.749609</td>\n",
              "      <td>55.412505</td>\n",
              "      <td>42.505460</td>\n",
              "      <td>48.536176</td>\n",
              "      <td>42.505460</td>\n",
              "      <td>42.505460</td>\n",
              "      <td>43.803327</td>\n",
              "      <td>42.505460</td>\n",
              "      <td>0</td>\n",
              "    </tr>\n",
              "    <tr>\n",
              "      <th>4</th>\n",
              "      <td>7</td>\n",
              "      <td>70.506566</td>\n",
              "      <td>42.505460</td>\n",
              "      <td>70.506566</td>\n",
              "      <td>55.412505</td>\n",
              "      <td>55.412505</td>\n",
              "      <td>55.412505</td>\n",
              "      <td>50.650274</td>\n",
              "      <td>55.412505</td>\n",
              "      <td>55.412505</td>\n",
              "      <td>...</td>\n",
              "      <td>42.505460</td>\n",
              "      <td>52.749609</td>\n",
              "      <td>55.412505</td>\n",
              "      <td>55.412505</td>\n",
              "      <td>48.536176</td>\n",
              "      <td>55.412505</td>\n",
              "      <td>55.412505</td>\n",
              "      <td>42.505460</td>\n",
              "      <td>54.415419</td>\n",
              "      <td>0</td>\n",
              "    </tr>\n",
              "    <tr>\n",
              "      <th>...</th>\n",
              "      <td>...</td>\n",
              "      <td>...</td>\n",
              "      <td>...</td>\n",
              "      <td>...</td>\n",
              "      <td>...</td>\n",
              "      <td>...</td>\n",
              "      <td>...</td>\n",
              "      <td>...</td>\n",
              "      <td>...</td>\n",
              "      <td>...</td>\n",
              "      <td>...</td>\n",
              "      <td>...</td>\n",
              "      <td>...</td>\n",
              "      <td>...</td>\n",
              "      <td>...</td>\n",
              "      <td>...</td>\n",
              "      <td>...</td>\n",
              "      <td>...</td>\n",
              "      <td>...</td>\n",
              "      <td>...</td>\n",
              "      <td>...</td>\n",
              "    </tr>\n",
              "    <tr>\n",
              "      <th>1008</th>\n",
              "      <td>6</td>\n",
              "      <td>44.105567</td>\n",
              "      <td>29.090506</td>\n",
              "      <td>51.503158</td>\n",
              "      <td>36.766581</td>\n",
              "      <td>36.766581</td>\n",
              "      <td>52.431914</td>\n",
              "      <td>50.650274</td>\n",
              "      <td>36.766581</td>\n",
              "      <td>29.090506</td>\n",
              "      <td>...</td>\n",
              "      <td>51.028497</td>\n",
              "      <td>52.749609</td>\n",
              "      <td>52.637413</td>\n",
              "      <td>36.766581</td>\n",
              "      <td>51.503158</td>\n",
              "      <td>51.503158</td>\n",
              "      <td>29.090506</td>\n",
              "      <td>43.803327</td>\n",
              "      <td>54.415419</td>\n",
              "      <td>0</td>\n",
              "    </tr>\n",
              "    <tr>\n",
              "      <th>1009</th>\n",
              "      <td>8</td>\n",
              "      <td>68.596128</td>\n",
              "      <td>46.956626</td>\n",
              "      <td>51.503158</td>\n",
              "      <td>50.422883</td>\n",
              "      <td>51.503158</td>\n",
              "      <td>52.431914</td>\n",
              "      <td>50.650274</td>\n",
              "      <td>51.657430</td>\n",
              "      <td>50.947070</td>\n",
              "      <td>...</td>\n",
              "      <td>51.028497</td>\n",
              "      <td>52.749609</td>\n",
              "      <td>44.105567</td>\n",
              "      <td>44.105567</td>\n",
              "      <td>48.536176</td>\n",
              "      <td>44.105567</td>\n",
              "      <td>59.362198</td>\n",
              "      <td>68.596128</td>\n",
              "      <td>54.415419</td>\n",
              "      <td>0</td>\n",
              "    </tr>\n",
              "    <tr>\n",
              "      <th>1010</th>\n",
              "      <td>2</td>\n",
              "      <td>44.105567</td>\n",
              "      <td>44.105567</td>\n",
              "      <td>36.766581</td>\n",
              "      <td>44.105567</td>\n",
              "      <td>44.105567</td>\n",
              "      <td>52.431914</td>\n",
              "      <td>50.650274</td>\n",
              "      <td>51.657430</td>\n",
              "      <td>44.105567</td>\n",
              "      <td>...</td>\n",
              "      <td>51.028497</td>\n",
              "      <td>52.749609</td>\n",
              "      <td>51.503158</td>\n",
              "      <td>51.503158</td>\n",
              "      <td>51.503158</td>\n",
              "      <td>53.185411</td>\n",
              "      <td>29.090506</td>\n",
              "      <td>43.803327</td>\n",
              "      <td>54.415419</td>\n",
              "      <td>0</td>\n",
              "    </tr>\n",
              "    <tr>\n",
              "      <th>1011</th>\n",
              "      <td>10</td>\n",
              "      <td>51.503158</td>\n",
              "      <td>51.503158</td>\n",
              "      <td>51.503158</td>\n",
              "      <td>44.105567</td>\n",
              "      <td>51.503158</td>\n",
              "      <td>52.431914</td>\n",
              "      <td>50.650274</td>\n",
              "      <td>51.657430</td>\n",
              "      <td>51.503158</td>\n",
              "      <td>...</td>\n",
              "      <td>51.028497</td>\n",
              "      <td>52.749609</td>\n",
              "      <td>59.362198</td>\n",
              "      <td>59.362198</td>\n",
              "      <td>48.536176</td>\n",
              "      <td>53.185411</td>\n",
              "      <td>51.503158</td>\n",
              "      <td>51.503158</td>\n",
              "      <td>51.503158</td>\n",
              "      <td>1</td>\n",
              "    </tr>\n",
              "    <tr>\n",
              "      <th>1012</th>\n",
              "      <td>5</td>\n",
              "      <td>51.503158</td>\n",
              "      <td>20.192805</td>\n",
              "      <td>51.503158</td>\n",
              "      <td>51.503158</td>\n",
              "      <td>29.090506</td>\n",
              "      <td>52.431914</td>\n",
              "      <td>50.650274</td>\n",
              "      <td>51.657430</td>\n",
              "      <td>50.947070</td>\n",
              "      <td>...</td>\n",
              "      <td>51.028497</td>\n",
              "      <td>52.749609</td>\n",
              "      <td>44.105567</td>\n",
              "      <td>29.090506</td>\n",
              "      <td>51.503158</td>\n",
              "      <td>44.105567</td>\n",
              "      <td>59.362198</td>\n",
              "      <td>68.596128</td>\n",
              "      <td>51.503158</td>\n",
              "      <td>0</td>\n",
              "    </tr>\n",
              "  </tbody>\n",
              "</table>\n",
              "<p>1013 rows × 43 columns</p>\n",
              "</div>\n",
              "      <button class=\"colab-df-convert\" onclick=\"convertToInteractive('df-e90b623d-4d3c-4348-80a0-2de99934bbcb')\"\n",
              "              title=\"Convert this dataframe to an interactive table.\"\n",
              "              style=\"display:none;\">\n",
              "        \n",
              "  <svg xmlns=\"http://www.w3.org/2000/svg\" height=\"24px\"viewBox=\"0 0 24 24\"\n",
              "       width=\"24px\">\n",
              "    <path d=\"M0 0h24v24H0V0z\" fill=\"none\"/>\n",
              "    <path d=\"M18.56 5.44l.94 2.06.94-2.06 2.06-.94-2.06-.94-.94-2.06-.94 2.06-2.06.94zm-11 1L8.5 8.5l.94-2.06 2.06-.94-2.06-.94L8.5 2.5l-.94 2.06-2.06.94zm10 10l.94 2.06.94-2.06 2.06-.94-2.06-.94-.94-2.06-.94 2.06-2.06.94z\"/><path d=\"M17.41 7.96l-1.37-1.37c-.4-.4-.92-.59-1.43-.59-.52 0-1.04.2-1.43.59L10.3 9.45l-7.72 7.72c-.78.78-.78 2.05 0 2.83L4 21.41c.39.39.9.59 1.41.59.51 0 1.02-.2 1.41-.59l7.78-7.78 2.81-2.81c.8-.78.8-2.07 0-2.86zM5.41 20L4 18.59l7.72-7.72 1.47 1.35L5.41 20z\"/>\n",
              "  </svg>\n",
              "      </button>\n",
              "      \n",
              "  <style>\n",
              "    .colab-df-container {\n",
              "      display:flex;\n",
              "      flex-wrap:wrap;\n",
              "      gap: 12px;\n",
              "    }\n",
              "\n",
              "    .colab-df-convert {\n",
              "      background-color: #E8F0FE;\n",
              "      border: none;\n",
              "      border-radius: 50%;\n",
              "      cursor: pointer;\n",
              "      display: none;\n",
              "      fill: #1967D2;\n",
              "      height: 32px;\n",
              "      padding: 0 0 0 0;\n",
              "      width: 32px;\n",
              "    }\n",
              "\n",
              "    .colab-df-convert:hover {\n",
              "      background-color: #E2EBFA;\n",
              "      box-shadow: 0px 1px 2px rgba(60, 64, 67, 0.3), 0px 1px 3px 1px rgba(60, 64, 67, 0.15);\n",
              "      fill: #174EA6;\n",
              "    }\n",
              "\n",
              "    [theme=dark] .colab-df-convert {\n",
              "      background-color: #3B4455;\n",
              "      fill: #D2E3FC;\n",
              "    }\n",
              "\n",
              "    [theme=dark] .colab-df-convert:hover {\n",
              "      background-color: #434B5C;\n",
              "      box-shadow: 0px 1px 3px 1px rgba(0, 0, 0, 0.15);\n",
              "      filter: drop-shadow(0px 1px 2px rgba(0, 0, 0, 0.3));\n",
              "      fill: #FFFFFF;\n",
              "    }\n",
              "  </style>\n",
              "\n",
              "      <script>\n",
              "        const buttonEl =\n",
              "          document.querySelector('#df-e90b623d-4d3c-4348-80a0-2de99934bbcb button.colab-df-convert');\n",
              "        buttonEl.style.display =\n",
              "          google.colab.kernel.accessAllowed ? 'block' : 'none';\n",
              "\n",
              "        async function convertToInteractive(key) {\n",
              "          const element = document.querySelector('#df-e90b623d-4d3c-4348-80a0-2de99934bbcb');\n",
              "          const dataTable =\n",
              "            await google.colab.kernel.invokeFunction('convertToInteractive',\n",
              "                                                     [key], {});\n",
              "          if (!dataTable) return;\n",
              "\n",
              "          const docLinkHtml = 'Like what you see? Visit the ' +\n",
              "            '<a target=\"_blank\" href=https://colab.research.google.com/notebooks/data_table.ipynb>data table notebook</a>'\n",
              "            + ' to learn more about interactive tables.';\n",
              "          element.innerHTML = '';\n",
              "          dataTable['output_type'] = 'display_data';\n",
              "          await google.colab.output.renderOutput(dataTable, element);\n",
              "          const docLink = document.createElement('div');\n",
              "          docLink.innerHTML = docLinkHtml;\n",
              "          element.appendChild(docLink);\n",
              "        }\n",
              "      </script>\n",
              "    </div>\n",
              "  </div>\n",
              "  "
            ],
            "text/plain": [
              "      position_id  attribute_value_ml_acceleration  \\\n",
              "0               2                        42.505460   \n",
              "1              10                        42.505460   \n",
              "2               5                        55.412505   \n",
              "3               3                        70.506566   \n",
              "4               7                        70.506566   \n",
              "...           ...                              ...   \n",
              "1008            6                        44.105567   \n",
              "1009            8                        68.596128   \n",
              "1010            2                        44.105567   \n",
              "1011           10                        51.503158   \n",
              "1012            5                        51.503158   \n",
              "\n",
              "      attribute_value_ml_aerial_ability  attribute_value_ml_agility  \\\n",
              "0                             30.394741                   42.505460   \n",
              "1                             55.412505                   42.505460   \n",
              "2                             42.505460                   55.412505   \n",
              "3                             42.505460                   55.412505   \n",
              "4                             42.505460                   70.506566   \n",
              "...                                 ...                         ...   \n",
              "1008                          29.090506                   51.503158   \n",
              "1009                          46.956626                   51.503158   \n",
              "1010                          44.105567                   36.766581   \n",
              "1011                          51.503158                   51.503158   \n",
              "1012                          20.192805                   51.503158   \n",
              "\n",
              "      attribute_value_ml_anticipation  attribute_value_ml_balance  \\\n",
              "0                           30.394741                   42.505460   \n",
              "1                           42.505460                   55.412505   \n",
              "2                           55.412505                   55.412505   \n",
              "3                           42.505460                   55.412505   \n",
              "4                           55.412505                   55.412505   \n",
              "...                               ...                         ...   \n",
              "1008                        36.766581                   36.766581   \n",
              "1009                        50.422883                   51.503158   \n",
              "1010                        44.105567                   44.105567   \n",
              "1011                        44.105567                   51.503158   \n",
              "1012                        51.503158                   29.090506   \n",
              "\n",
              "      attribute_value_ml_bravery  attribute_value_ml_command_of_area  \\\n",
              "0                      30.394741                           50.650274   \n",
              "1                      42.505460                           50.650274   \n",
              "2                      55.412505                           50.650274   \n",
              "3                      42.505460                           50.650274   \n",
              "4                      55.412505                           50.650274   \n",
              "...                          ...                                 ...   \n",
              "1008                   52.431914                           50.650274   \n",
              "1009                   52.431914                           50.650274   \n",
              "1010                   52.431914                           50.650274   \n",
              "1011                   52.431914                           50.650274   \n",
              "1012                   52.431914                           50.650274   \n",
              "\n",
              "      attribute_value_ml_communication  attribute_value_ml_composure  ...  \\\n",
              "0                            30.394741                     30.394741  ...   \n",
              "1                            42.505460                     42.505460  ...   \n",
              "2                            55.412505                     55.412505  ...   \n",
              "3                            30.394741                     42.505460  ...   \n",
              "4                            55.412505                     55.412505  ...   \n",
              "...                                ...                           ...  ...   \n",
              "1008                         36.766581                     29.090506  ...   \n",
              "1009                         51.657430                     50.947070  ...   \n",
              "1010                         51.657430                     44.105567  ...   \n",
              "1011                         51.657430                     51.503158  ...   \n",
              "1012                         51.657430                     50.947070  ...   \n",
              "\n",
              "      attribute_value_ml_positive_aggression  attribute_value_ml_reflexes  \\\n",
              "0                                  51.028497                    52.749609   \n",
              "1                                  51.028497                    52.749609   \n",
              "2                                  51.028497                    52.749609   \n",
              "3                                  51.028497                    52.749609   \n",
              "4                                  42.505460                    52.749609   \n",
              "...                                      ...                          ...   \n",
              "1008                               51.028497                    52.749609   \n",
              "1009                               51.028497                    52.749609   \n",
              "1010                               51.028497                    52.749609   \n",
              "1011                               51.028497                    52.749609   \n",
              "1012                               51.028497                    52.749609   \n",
              "\n",
              "      attribute_value_ml_stamina  attribute_value_ml_strength  \\\n",
              "0                      42.505460                    42.505460   \n",
              "1                      55.412505                    55.412505   \n",
              "2                      55.412505                    42.505460   \n",
              "3                      55.412505                    42.505460   \n",
              "4                      55.412505                    55.412505   \n",
              "...                          ...                          ...   \n",
              "1008                   52.637413                    36.766581   \n",
              "1009                   44.105567                    44.105567   \n",
              "1010                   51.503158                    51.503158   \n",
              "1011                   59.362198                    59.362198   \n",
              "1012                   44.105567                    29.090506   \n",
              "\n",
              "      attribute_value_ml_tackling  attribute_value_ml_team_work  \\\n",
              "0                       30.394741                     30.394741   \n",
              "1                       42.505460                     55.412505   \n",
              "2                       42.505460                     55.412505   \n",
              "3                       48.536176                     42.505460   \n",
              "4                       48.536176                     55.412505   \n",
              "...                           ...                           ...   \n",
              "1008                    51.503158                     51.503158   \n",
              "1009                    48.536176                     44.105567   \n",
              "1010                    51.503158                     53.185411   \n",
              "1011                    48.536176                     53.185411   \n",
              "1012                    51.503158                     44.105567   \n",
              "\n",
              "      attribute_value_ml_technique  attribute_value_ml_weakfoot  \\\n",
              "0                        30.394741                    43.803327   \n",
              "1                        42.505460                    43.803327   \n",
              "2                        42.505460                    43.803327   \n",
              "3                        42.505460                    43.803327   \n",
              "4                        55.412505                    42.505460   \n",
              "...                            ...                          ...   \n",
              "1008                     29.090506                    43.803327   \n",
              "1009                     59.362198                    68.596128   \n",
              "1010                     29.090506                    43.803327   \n",
              "1011                     51.503158                    51.503158   \n",
              "1012                     59.362198                    68.596128   \n",
              "\n",
              "      attribute_value_ml_workrate  Label_Category_Num  \n",
              "0                       42.505460                   0  \n",
              "1                       42.505460                   0  \n",
              "2                       55.412505                   0  \n",
              "3                       42.505460                   0  \n",
              "4                       54.415419                   0  \n",
              "...                           ...                 ...  \n",
              "1008                    54.415419                   0  \n",
              "1009                    54.415419                   0  \n",
              "1010                    54.415419                   0  \n",
              "1011                    51.503158                   1  \n",
              "1012                    51.503158                   0  \n",
              "\n",
              "[1013 rows x 43 columns]"
            ]
          },
          "execution_count": 3,
          "metadata": {},
          "output_type": "execute_result"
        }
      ],
      "source": [
        "data = pd.read_csv(\"#dataset_path\")\n",
        "#data.drop(\"Id\", axis=1, inplace=True)\n",
        "data = data.iloc[:,7:]\n",
        "data"
      ]
    },
    {
      "cell_type": "code",
      "execution_count": 19,
      "metadata": {
        "colab": {
          "base_uri": "https://localhost:8080/"
        },
        "id": "fOjaGM-JIew6",
        "outputId": "18e85de4-be07-4f6f-bd89-184b57be014e"
      },
      "outputs": [
        {
          "data": {
            "text/plain": [
              "0.244607231209382"
            ]
          },
          "execution_count": 19,
          "metadata": {},
          "output_type": "execute_result"
        }
      ],
      "source": [
        "corr = data['position_id'].corr(data['Label_Category_Num'])\n",
        "corr\n"
      ]
    },
    {
      "cell_type": "code",
      "execution_count": null,
      "metadata": {
        "id": "4hP6PI4BfwNG"
      },
      "outputs": [],
      "source": [
        "df_x = data.iloc[:,:-1]\n",
        "df_y = data.iloc[:,[-1]]"
      ]
    },
    {
      "cell_type": "code",
      "execution_count": null,
      "metadata": {
        "colab": {
          "base_uri": "https://localhost:8080/"
        },
        "id": "oQ4YUgzlfrEn",
        "outputId": "f75f6c86-0434-4a34-8abe-925f0568e726"
      },
      "outputs": [
        {
          "name": "stderr",
          "output_type": "stream",
          "text": [
            "/usr/local/lib/python3.7/dist-packages/sklearn/feature_selection/_rfe.py:283: DataConversionWarning: A column-vector y was passed when a 1d array was expected. Please change the shape of y to (n_samples,), for example using ravel().\n",
            "  estimator.fit(X[:, features], y, **fit_params)\n",
            "/usr/local/lib/python3.7/dist-packages/sklearn/feature_selection/_rfe.py:283: DataConversionWarning: A column-vector y was passed when a 1d array was expected. Please change the shape of y to (n_samples,), for example using ravel().\n",
            "  estimator.fit(X[:, features], y, **fit_params)\n",
            "/usr/local/lib/python3.7/dist-packages/sklearn/feature_selection/_rfe.py:283: DataConversionWarning: A column-vector y was passed when a 1d array was expected. Please change the shape of y to (n_samples,), for example using ravel().\n",
            "  estimator.fit(X[:, features], y, **fit_params)\n",
            "/usr/local/lib/python3.7/dist-packages/sklearn/feature_selection/_rfe.py:283: DataConversionWarning: A column-vector y was passed when a 1d array was expected. Please change the shape of y to (n_samples,), for example using ravel().\n",
            "  estimator.fit(X[:, features], y, **fit_params)\n",
            "/usr/local/lib/python3.7/dist-packages/sklearn/feature_selection/_rfe.py:283: DataConversionWarning: A column-vector y was passed when a 1d array was expected. Please change the shape of y to (n_samples,), for example using ravel().\n",
            "  estimator.fit(X[:, features], y, **fit_params)\n",
            "/usr/local/lib/python3.7/dist-packages/sklearn/feature_selection/_rfe.py:283: DataConversionWarning: A column-vector y was passed when a 1d array was expected. Please change the shape of y to (n_samples,), for example using ravel().\n",
            "  estimator.fit(X[:, features], y, **fit_params)\n",
            "/usr/local/lib/python3.7/dist-packages/sklearn/feature_selection/_rfe.py:283: DataConversionWarning: A column-vector y was passed when a 1d array was expected. Please change the shape of y to (n_samples,), for example using ravel().\n",
            "  estimator.fit(X[:, features], y, **fit_params)\n",
            "/usr/local/lib/python3.7/dist-packages/sklearn/feature_selection/_rfe.py:283: DataConversionWarning: A column-vector y was passed when a 1d array was expected. Please change the shape of y to (n_samples,), for example using ravel().\n",
            "  estimator.fit(X[:, features], y, **fit_params)\n",
            "/usr/local/lib/python3.7/dist-packages/sklearn/feature_selection/_rfe.py:283: DataConversionWarning: A column-vector y was passed when a 1d array was expected. Please change the shape of y to (n_samples,), for example using ravel().\n",
            "  estimator.fit(X[:, features], y, **fit_params)\n",
            "/usr/local/lib/python3.7/dist-packages/sklearn/feature_selection/_rfe.py:283: DataConversionWarning: A column-vector y was passed when a 1d array was expected. Please change the shape of y to (n_samples,), for example using ravel().\n",
            "  estimator.fit(X[:, features], y, **fit_params)\n",
            "/usr/local/lib/python3.7/dist-packages/sklearn/feature_selection/_rfe.py:283: DataConversionWarning: A column-vector y was passed when a 1d array was expected. Please change the shape of y to (n_samples,), for example using ravel().\n",
            "  estimator.fit(X[:, features], y, **fit_params)\n",
            "/usr/local/lib/python3.7/dist-packages/sklearn/feature_selection/_rfe.py:283: DataConversionWarning: A column-vector y was passed when a 1d array was expected. Please change the shape of y to (n_samples,), for example using ravel().\n",
            "  estimator.fit(X[:, features], y, **fit_params)\n",
            "/usr/local/lib/python3.7/dist-packages/sklearn/feature_selection/_rfe.py:283: DataConversionWarning: A column-vector y was passed when a 1d array was expected. Please change the shape of y to (n_samples,), for example using ravel().\n",
            "  estimator.fit(X[:, features], y, **fit_params)\n",
            "/usr/local/lib/python3.7/dist-packages/sklearn/feature_selection/_rfe.py:283: DataConversionWarning: A column-vector y was passed when a 1d array was expected. Please change the shape of y to (n_samples,), for example using ravel().\n",
            "  estimator.fit(X[:, features], y, **fit_params)\n",
            "/usr/local/lib/python3.7/dist-packages/sklearn/feature_selection/_rfe.py:283: DataConversionWarning: A column-vector y was passed when a 1d array was expected. Please change the shape of y to (n_samples,), for example using ravel().\n",
            "  estimator.fit(X[:, features], y, **fit_params)\n",
            "/usr/local/lib/python3.7/dist-packages/sklearn/feature_selection/_rfe.py:283: DataConversionWarning: A column-vector y was passed when a 1d array was expected. Please change the shape of y to (n_samples,), for example using ravel().\n",
            "  estimator.fit(X[:, features], y, **fit_params)\n",
            "/usr/local/lib/python3.7/dist-packages/sklearn/feature_selection/_rfe.py:283: DataConversionWarning: A column-vector y was passed when a 1d array was expected. Please change the shape of y to (n_samples,), for example using ravel().\n",
            "  estimator.fit(X[:, features], y, **fit_params)\n",
            "/usr/local/lib/python3.7/dist-packages/sklearn/feature_selection/_rfe.py:283: DataConversionWarning: A column-vector y was passed when a 1d array was expected. Please change the shape of y to (n_samples,), for example using ravel().\n",
            "  estimator.fit(X[:, features], y, **fit_params)\n",
            "/usr/local/lib/python3.7/dist-packages/sklearn/feature_selection/_rfe.py:283: DataConversionWarning: A column-vector y was passed when a 1d array was expected. Please change the shape of y to (n_samples,), for example using ravel().\n",
            "  estimator.fit(X[:, features], y, **fit_params)\n",
            "/usr/local/lib/python3.7/dist-packages/sklearn/feature_selection/_rfe.py:283: DataConversionWarning: A column-vector y was passed when a 1d array was expected. Please change the shape of y to (n_samples,), for example using ravel().\n",
            "  estimator.fit(X[:, features], y, **fit_params)\n",
            "/usr/local/lib/python3.7/dist-packages/sklearn/feature_selection/_rfe.py:283: DataConversionWarning: A column-vector y was passed when a 1d array was expected. Please change the shape of y to (n_samples,), for example using ravel().\n",
            "  estimator.fit(X[:, features], y, **fit_params)\n",
            "/usr/local/lib/python3.7/dist-packages/sklearn/feature_selection/_rfe.py:283: DataConversionWarning: A column-vector y was passed when a 1d array was expected. Please change the shape of y to (n_samples,), for example using ravel().\n",
            "  estimator.fit(X[:, features], y, **fit_params)\n",
            "/usr/local/lib/python3.7/dist-packages/sklearn/feature_selection/_rfe.py:283: DataConversionWarning: A column-vector y was passed when a 1d array was expected. Please change the shape of y to (n_samples,), for example using ravel().\n",
            "  estimator.fit(X[:, features], y, **fit_params)\n",
            "/usr/local/lib/python3.7/dist-packages/sklearn/feature_selection/_rfe.py:283: DataConversionWarning: A column-vector y was passed when a 1d array was expected. Please change the shape of y to (n_samples,), for example using ravel().\n",
            "  estimator.fit(X[:, features], y, **fit_params)\n",
            "/usr/local/lib/python3.7/dist-packages/sklearn/feature_selection/_rfe.py:283: DataConversionWarning: A column-vector y was passed when a 1d array was expected. Please change the shape of y to (n_samples,), for example using ravel().\n",
            "  estimator.fit(X[:, features], y, **fit_params)\n",
            "/usr/local/lib/python3.7/dist-packages/sklearn/feature_selection/_rfe.py:283: DataConversionWarning: A column-vector y was passed when a 1d array was expected. Please change the shape of y to (n_samples,), for example using ravel().\n",
            "  estimator.fit(X[:, features], y, **fit_params)\n",
            "/usr/local/lib/python3.7/dist-packages/sklearn/feature_selection/_rfe.py:283: DataConversionWarning: A column-vector y was passed when a 1d array was expected. Please change the shape of y to (n_samples,), for example using ravel().\n",
            "  estimator.fit(X[:, features], y, **fit_params)\n",
            "/usr/local/lib/python3.7/dist-packages/sklearn/feature_selection/_rfe.py:283: DataConversionWarning: A column-vector y was passed when a 1d array was expected. Please change the shape of y to (n_samples,), for example using ravel().\n",
            "  estimator.fit(X[:, features], y, **fit_params)\n",
            "/usr/local/lib/python3.7/dist-packages/sklearn/feature_selection/_rfe.py:283: DataConversionWarning: A column-vector y was passed when a 1d array was expected. Please change the shape of y to (n_samples,), for example using ravel().\n",
            "  estimator.fit(X[:, features], y, **fit_params)\n",
            "/usr/local/lib/python3.7/dist-packages/sklearn/feature_selection/_rfe.py:283: DataConversionWarning: A column-vector y was passed when a 1d array was expected. Please change the shape of y to (n_samples,), for example using ravel().\n",
            "  estimator.fit(X[:, features], y, **fit_params)\n",
            "/usr/local/lib/python3.7/dist-packages/sklearn/feature_selection/_rfe.py:283: DataConversionWarning: A column-vector y was passed when a 1d array was expected. Please change the shape of y to (n_samples,), for example using ravel().\n",
            "  estimator.fit(X[:, features], y, **fit_params)\n"
          ]
        },
        {
          "name": "stdout",
          "output_type": "stream",
          "text": [
            "time: 1.2372213970000008\n"
          ]
        },
        {
          "name": "stderr",
          "output_type": "stream",
          "text": [
            "/usr/local/lib/python3.7/dist-packages/sklearn/feature_selection/_rfe.py:283: DataConversionWarning: A column-vector y was passed when a 1d array was expected. Please change the shape of y to (n_samples,), for example using ravel().\n",
            "  estimator.fit(X[:, features], y, **fit_params)\n",
            "/usr/local/lib/python3.7/dist-packages/sklearn/feature_selection/_rfe.py:310: DataConversionWarning: A column-vector y was passed when a 1d array was expected. Please change the shape of y to (n_samples,), for example using ravel().\n",
            "  self.estimator_.fit(X[:, features], y, **fit_params)\n"
          ]
        }
      ],
      "source": [
        "t1_start = process_time() \n",
        "sel = RFE(RandomForestClassifier(n_estimators = 10, random_state = 10), n_features_to_select = 10)\n",
        "sel.fit(df_x, df_y)\n",
        "t1_stop = process_time()\n",
        "print(\"time:\", t1_stop-t1_start)"
      ]
    },
    {
      "cell_type": "code",
      "execution_count": null,
      "metadata": {
        "colab": {
          "base_uri": "https://localhost:8080/"
        },
        "id": "PGlkvWudyPVL",
        "outputId": "a2574fec-ac2f-4381-9f21-e15d297b23d9"
      },
      "outputs": [
        {
          "data": {
            "text/plain": [
              "10"
            ]
          },
          "execution_count": 24,
          "metadata": {},
          "output_type": "execute_result"
        }
      ],
      "source": [
        "selected_feat= df_x.columns[(sel.get_support())]\n",
        "len(selected_feat)"
      ]
    },
    {
      "cell_type": "code",
      "execution_count": null,
      "metadata": {
        "colab": {
          "base_uri": "https://localhost:8080/"
        },
        "id": "-uDe6wNmgOyq",
        "outputId": "8e6a5fb9-fc7c-46ed-c9b9-16aa53471a7b"
      },
      "outputs": [
        {
          "name": "stdout",
          "output_type": "stream",
          "text": [
            "Index(['attribute_value_ml_acceleration', 'attribute_value_ml_creativity',\n",
            "       'attribute_value_ml_crossing', 'attribute_value_ml_dribling',\n",
            "       'attribute_value_ml_finishing', 'attribute_value_ml_flair',\n",
            "       'attribute_value_ml_marking', 'attribute_value_ml_passing',\n",
            "       'attribute_value_ml_team_work', 'attribute_value_ml_technique'],\n",
            "      dtype='object')\n"
          ]
        }
      ],
      "source": [
        "print(selected_feat)"
      ]
    },
    {
      "cell_type": "code",
      "execution_count": null,
      "metadata": {
        "id": "u1Q30WBJgO0v"
      },
      "outputs": [],
      "source": [
        "df_x2 = df_x[selected_feat]"
      ]
    },
    {
      "cell_type": "code",
      "execution_count": null,
      "metadata": {
        "id": "fRcT-1sngO3H"
      },
      "outputs": [],
      "source": [
        "res_df = pd.concat([df_x2, df_y], axis = 1)"
      ]
    },
    {
      "cell_type": "code",
      "execution_count": null,
      "metadata": {
        "id": "r9kn-snygO5Y"
      },
      "outputs": [],
      "source": [
        "res_x = res_df.iloc[:,:-1]\n",
        "res_y = res_df.iloc[:,[-1]]"
      ]
    },
    {
      "cell_type": "code",
      "execution_count": null,
      "metadata": {
        "id": "KXJYYEM_gO8z"
      },
      "outputs": [],
      "source": [
        "model = RandomForestClassifier()"
      ]
    },
    {
      "cell_type": "code",
      "execution_count": null,
      "metadata": {
        "colab": {
          "base_uri": "https://localhost:8080/"
        },
        "id": "BLMFznPzgyiZ",
        "outputId": "91959913-81d9-4f61-912c-a56ff0b5754d"
      },
      "outputs": [
        {
          "name": "stderr",
          "output_type": "stream",
          "text": [
            "/usr/local/lib/python3.7/dist-packages/sklearn/model_selection/_validation.py:680: DataConversionWarning: A column-vector y was passed when a 1d array was expected. Please change the shape of y to (n_samples,), for example using ravel().\n",
            "  estimator.fit(X_train, y_train, **fit_params)\n",
            "/usr/local/lib/python3.7/dist-packages/sklearn/model_selection/_validation.py:680: DataConversionWarning: A column-vector y was passed when a 1d array was expected. Please change the shape of y to (n_samples,), for example using ravel().\n",
            "  estimator.fit(X_train, y_train, **fit_params)\n",
            "/usr/local/lib/python3.7/dist-packages/sklearn/model_selection/_validation.py:680: DataConversionWarning: A column-vector y was passed when a 1d array was expected. Please change the shape of y to (n_samples,), for example using ravel().\n",
            "  estimator.fit(X_train, y_train, **fit_params)\n",
            "/usr/local/lib/python3.7/dist-packages/sklearn/model_selection/_validation.py:680: DataConversionWarning: A column-vector y was passed when a 1d array was expected. Please change the shape of y to (n_samples,), for example using ravel().\n",
            "  estimator.fit(X_train, y_train, **fit_params)\n",
            "/usr/local/lib/python3.7/dist-packages/sklearn/model_selection/_validation.py:680: DataConversionWarning: A column-vector y was passed when a 1d array was expected. Please change the shape of y to (n_samples,), for example using ravel().\n",
            "  estimator.fit(X_train, y_train, **fit_params)\n",
            "/usr/local/lib/python3.7/dist-packages/sklearn/model_selection/_validation.py:680: DataConversionWarning: A column-vector y was passed when a 1d array was expected. Please change the shape of y to (n_samples,), for example using ravel().\n",
            "  estimator.fit(X_train, y_train, **fit_params)\n",
            "/usr/local/lib/python3.7/dist-packages/sklearn/model_selection/_validation.py:680: DataConversionWarning: A column-vector y was passed when a 1d array was expected. Please change the shape of y to (n_samples,), for example using ravel().\n",
            "  estimator.fit(X_train, y_train, **fit_params)\n",
            "/usr/local/lib/python3.7/dist-packages/sklearn/model_selection/_validation.py:680: DataConversionWarning: A column-vector y was passed when a 1d array was expected. Please change the shape of y to (n_samples,), for example using ravel().\n",
            "  estimator.fit(X_train, y_train, **fit_params)\n",
            "/usr/local/lib/python3.7/dist-packages/sklearn/model_selection/_validation.py:680: DataConversionWarning: A column-vector y was passed when a 1d array was expected. Please change the shape of y to (n_samples,), for example using ravel().\n",
            "  estimator.fit(X_train, y_train, **fit_params)\n",
            "/usr/local/lib/python3.7/dist-packages/sklearn/model_selection/_validation.py:680: DataConversionWarning: A column-vector y was passed when a 1d array was expected. Please change the shape of y to (n_samples,), for example using ravel().\n",
            "  estimator.fit(X_train, y_train, **fit_params)\n",
            "/usr/local/lib/python3.7/dist-packages/sklearn/model_selection/_validation.py:1044: DataConversionWarning: A column-vector y was passed when a 1d array was expected. Please change the shape of y to (n_samples,), for example using ravel().\n",
            "  estimator.fit(X_train, y_train, **fit_params)\n",
            "/usr/local/lib/python3.7/dist-packages/sklearn/model_selection/_validation.py:1044: DataConversionWarning: A column-vector y was passed when a 1d array was expected. Please change the shape of y to (n_samples,), for example using ravel().\n",
            "  estimator.fit(X_train, y_train, **fit_params)\n",
            "/usr/local/lib/python3.7/dist-packages/sklearn/model_selection/_validation.py:1044: DataConversionWarning: A column-vector y was passed when a 1d array was expected. Please change the shape of y to (n_samples,), for example using ravel().\n",
            "  estimator.fit(X_train, y_train, **fit_params)\n",
            "/usr/local/lib/python3.7/dist-packages/sklearn/model_selection/_validation.py:1044: DataConversionWarning: A column-vector y was passed when a 1d array was expected. Please change the shape of y to (n_samples,), for example using ravel().\n",
            "  estimator.fit(X_train, y_train, **fit_params)\n",
            "/usr/local/lib/python3.7/dist-packages/sklearn/model_selection/_validation.py:1044: DataConversionWarning: A column-vector y was passed when a 1d array was expected. Please change the shape of y to (n_samples,), for example using ravel().\n",
            "  estimator.fit(X_train, y_train, **fit_params)\n",
            "/usr/local/lib/python3.7/dist-packages/sklearn/model_selection/_validation.py:1044: DataConversionWarning: A column-vector y was passed when a 1d array was expected. Please change the shape of y to (n_samples,), for example using ravel().\n",
            "  estimator.fit(X_train, y_train, **fit_params)\n",
            "/usr/local/lib/python3.7/dist-packages/sklearn/model_selection/_validation.py:1044: DataConversionWarning: A column-vector y was passed when a 1d array was expected. Please change the shape of y to (n_samples,), for example using ravel().\n",
            "  estimator.fit(X_train, y_train, **fit_params)\n",
            "/usr/local/lib/python3.7/dist-packages/sklearn/model_selection/_validation.py:1044: DataConversionWarning: A column-vector y was passed when a 1d array was expected. Please change the shape of y to (n_samples,), for example using ravel().\n",
            "  estimator.fit(X_train, y_train, **fit_params)\n",
            "/usr/local/lib/python3.7/dist-packages/sklearn/model_selection/_validation.py:1044: DataConversionWarning: A column-vector y was passed when a 1d array was expected. Please change the shape of y to (n_samples,), for example using ravel().\n",
            "  estimator.fit(X_train, y_train, **fit_params)\n",
            "/usr/local/lib/python3.7/dist-packages/sklearn/model_selection/_validation.py:1044: DataConversionWarning: A column-vector y was passed when a 1d array was expected. Please change the shape of y to (n_samples,), for example using ravel().\n",
            "  estimator.fit(X_train, y_train, **fit_params)\n"
          ]
        },
        {
          "name": "stdout",
          "output_type": "stream",
          "text": [
            "Accuracy :  0.8864201125994953\n",
            "Classification Report : \n",
            "               precision    recall  f1-score   support\n",
            "\n",
            "           0       0.98      0.91      0.94       970\n",
            "           1       0.21      0.56      0.30        43\n",
            "\n",
            "    accuracy                           0.89      1013\n",
            "   macro avg       0.59      0.73      0.62      1013\n",
            "weighted avg       0.95      0.89      0.91      1013\n",
            "\n",
            "Confusion Metrix : \n",
            " [[879  91]\n",
            " [ 19  24]]\n",
            "time: 5.553589944000002\n"
          ]
        }
      ],
      "source": [
        "t1_start = process_time() \n",
        "kfold = KFold(n_splits = 10, random_state = 1, shuffle = True)\n",
        "results = cross_val_score(model, res_x, res_y, scoring = 'accuracy', cv = kfold)\n",
        "predict = cross_val_predict(model, res_x , res_y,cv = 10)\n",
        "print(\"Accuracy : \", results.mean())\n",
        "print(\"Classification Report : \\n\", classification_report(predict, res_y))\n",
        "print(\"Confusion Metrix : \\n\", confusion_matrix(predict, res_y))\n",
        "t1_stop = process_time()\n",
        "print(\"time:\", t1_stop-t1_start)"
      ]
    },
    {
      "cell_type": "code",
      "execution_count": null,
      "metadata": {
        "colab": {
          "base_uri": "https://localhost:8080/"
        },
        "id": "7YXedQGZgykS",
        "outputId": "35f474c3-4f7d-4b13-f5aa-c792491f794b"
      },
      "outputs": [
        {
          "name": "stdout",
          "output_type": "stream",
          "text": [
            "Accuracy :  0.8291982139390409\n",
            "Classification Report : \n",
            "               precision    recall  f1-score   support\n",
            "\n",
            "           0       0.89      0.91      0.90       871\n",
            "           1       0.35      0.28      0.31       142\n",
            "\n",
            "    accuracy                           0.83      1013\n",
            "   macro avg       0.62      0.60      0.61      1013\n",
            "weighted avg       0.81      0.83      0.82      1013\n",
            "\n",
            "Confusion Metrix : \n",
            " [[796  75]\n",
            " [102  40]]\n",
            "time: 0.24838311199999907\n"
          ]
        }
      ],
      "source": [
        "model = DecisionTreeClassifier()\n",
        "t1_start = process_time() \n",
        "kfold = KFold(n_splits = 10, random_state = 1, shuffle = True)\n",
        "results = cross_val_score(model, res_x, res_y, scoring = 'accuracy', cv = kfold)\n",
        "predict = cross_val_predict(model, res_x , res_y,cv = 10)\n",
        "print(\"Accuracy : \", results.mean())\n",
        "print(\"Classification Report : \\n\", classification_report(predict, res_y))\n",
        "print(\"Confusion Metrix : \\n\", confusion_matrix(predict, res_y))\n",
        "t1_stop = process_time()\n",
        "print(\"time:\", t1_stop-t1_start)"
      ]
    },
    {
      "cell_type": "code",
      "execution_count": null,
      "metadata": {
        "colab": {
          "base_uri": "https://localhost:8080/"
        },
        "id": "AMxpsudsgyny",
        "outputId": "589c0afd-cf45-42e0-9682-7b5afcef1a73"
      },
      "outputs": [
        {
          "name": "stdout",
          "output_type": "stream",
          "text": [
            "Accuracy :  0.8271986022131624\n",
            "Classification Report : \n",
            "               precision    recall  f1-score   support\n",
            "\n",
            "           0       0.86      0.94      0.90       824\n",
            "           1       0.57      0.35      0.43       189\n",
            "\n",
            "    accuracy                           0.83      1013\n",
            "   macro avg       0.72      0.64      0.67      1013\n",
            "weighted avg       0.81      0.83      0.81      1013\n",
            "\n",
            "Confusion Metrix : \n",
            " [[775  49]\n",
            " [123  66]]\n",
            "time: 0.12447931999999895\n"
          ]
        },
        {
          "name": "stderr",
          "output_type": "stream",
          "text": [
            "/usr/local/lib/python3.7/dist-packages/sklearn/utils/validation.py:993: DataConversionWarning: A column-vector y was passed when a 1d array was expected. Please change the shape of y to (n_samples, ), for example using ravel().\n",
            "  y = column_or_1d(y, warn=True)\n",
            "/usr/local/lib/python3.7/dist-packages/sklearn/utils/validation.py:993: DataConversionWarning: A column-vector y was passed when a 1d array was expected. Please change the shape of y to (n_samples, ), for example using ravel().\n",
            "  y = column_or_1d(y, warn=True)\n",
            "/usr/local/lib/python3.7/dist-packages/sklearn/utils/validation.py:993: DataConversionWarning: A column-vector y was passed when a 1d array was expected. Please change the shape of y to (n_samples, ), for example using ravel().\n",
            "  y = column_or_1d(y, warn=True)\n",
            "/usr/local/lib/python3.7/dist-packages/sklearn/utils/validation.py:993: DataConversionWarning: A column-vector y was passed when a 1d array was expected. Please change the shape of y to (n_samples, ), for example using ravel().\n",
            "  y = column_or_1d(y, warn=True)\n",
            "/usr/local/lib/python3.7/dist-packages/sklearn/utils/validation.py:993: DataConversionWarning: A column-vector y was passed when a 1d array was expected. Please change the shape of y to (n_samples, ), for example using ravel().\n",
            "  y = column_or_1d(y, warn=True)\n",
            "/usr/local/lib/python3.7/dist-packages/sklearn/utils/validation.py:993: DataConversionWarning: A column-vector y was passed when a 1d array was expected. Please change the shape of y to (n_samples, ), for example using ravel().\n",
            "  y = column_or_1d(y, warn=True)\n",
            "/usr/local/lib/python3.7/dist-packages/sklearn/utils/validation.py:993: DataConversionWarning: A column-vector y was passed when a 1d array was expected. Please change the shape of y to (n_samples, ), for example using ravel().\n",
            "  y = column_or_1d(y, warn=True)\n",
            "/usr/local/lib/python3.7/dist-packages/sklearn/utils/validation.py:993: DataConversionWarning: A column-vector y was passed when a 1d array was expected. Please change the shape of y to (n_samples, ), for example using ravel().\n",
            "  y = column_or_1d(y, warn=True)\n",
            "/usr/local/lib/python3.7/dist-packages/sklearn/utils/validation.py:993: DataConversionWarning: A column-vector y was passed when a 1d array was expected. Please change the shape of y to (n_samples, ), for example using ravel().\n",
            "  y = column_or_1d(y, warn=True)\n",
            "/usr/local/lib/python3.7/dist-packages/sklearn/utils/validation.py:993: DataConversionWarning: A column-vector y was passed when a 1d array was expected. Please change the shape of y to (n_samples, ), for example using ravel().\n",
            "  y = column_or_1d(y, warn=True)\n",
            "/usr/local/lib/python3.7/dist-packages/sklearn/utils/validation.py:993: DataConversionWarning: A column-vector y was passed when a 1d array was expected. Please change the shape of y to (n_samples, ), for example using ravel().\n",
            "  y = column_or_1d(y, warn=True)\n",
            "/usr/local/lib/python3.7/dist-packages/sklearn/utils/validation.py:993: DataConversionWarning: A column-vector y was passed when a 1d array was expected. Please change the shape of y to (n_samples, ), for example using ravel().\n",
            "  y = column_or_1d(y, warn=True)\n",
            "/usr/local/lib/python3.7/dist-packages/sklearn/utils/validation.py:993: DataConversionWarning: A column-vector y was passed when a 1d array was expected. Please change the shape of y to (n_samples, ), for example using ravel().\n",
            "  y = column_or_1d(y, warn=True)\n",
            "/usr/local/lib/python3.7/dist-packages/sklearn/utils/validation.py:993: DataConversionWarning: A column-vector y was passed when a 1d array was expected. Please change the shape of y to (n_samples, ), for example using ravel().\n",
            "  y = column_or_1d(y, warn=True)\n",
            "/usr/local/lib/python3.7/dist-packages/sklearn/utils/validation.py:993: DataConversionWarning: A column-vector y was passed when a 1d array was expected. Please change the shape of y to (n_samples, ), for example using ravel().\n",
            "  y = column_or_1d(y, warn=True)\n",
            "/usr/local/lib/python3.7/dist-packages/sklearn/utils/validation.py:993: DataConversionWarning: A column-vector y was passed when a 1d array was expected. Please change the shape of y to (n_samples, ), for example using ravel().\n",
            "  y = column_or_1d(y, warn=True)\n",
            "/usr/local/lib/python3.7/dist-packages/sklearn/utils/validation.py:993: DataConversionWarning: A column-vector y was passed when a 1d array was expected. Please change the shape of y to (n_samples, ), for example using ravel().\n",
            "  y = column_or_1d(y, warn=True)\n",
            "/usr/local/lib/python3.7/dist-packages/sklearn/utils/validation.py:993: DataConversionWarning: A column-vector y was passed when a 1d array was expected. Please change the shape of y to (n_samples, ), for example using ravel().\n",
            "  y = column_or_1d(y, warn=True)\n",
            "/usr/local/lib/python3.7/dist-packages/sklearn/utils/validation.py:993: DataConversionWarning: A column-vector y was passed when a 1d array was expected. Please change the shape of y to (n_samples, ), for example using ravel().\n",
            "  y = column_or_1d(y, warn=True)\n",
            "/usr/local/lib/python3.7/dist-packages/sklearn/utils/validation.py:993: DataConversionWarning: A column-vector y was passed when a 1d array was expected. Please change the shape of y to (n_samples, ), for example using ravel().\n",
            "  y = column_or_1d(y, warn=True)\n"
          ]
        }
      ],
      "source": [
        "model = GaussianNB()\n",
        "t1_start = process_time() \n",
        "kfold = KFold(n_splits = 10, random_state = 1, shuffle = True)\n",
        "results = cross_val_score(model, res_x, res_y, scoring = 'accuracy', cv = kfold)\n",
        "predict = cross_val_predict(model, res_x , res_y,cv = 10)\n",
        "print(\"Accuracy : \", results.mean())\n",
        "print(\"Classification Report : \\n\", classification_report(predict, res_y))\n",
        "print(\"Confusion Metrix : \\n\", confusion_matrix(predict, res_y))\n",
        "t1_stop = process_time()\n",
        "print(\"time:\", t1_stop-t1_start)"
      ]
    },
    {
      "cell_type": "code",
      "execution_count": null,
      "metadata": {
        "colab": {
          "base_uri": "https://localhost:8080/"
        },
        "id": "3o6uGad-hDdO",
        "outputId": "64b1180a-4984-479e-b5d9-155b4d82df31"
      },
      "outputs": [
        {
          "name": "stderr",
          "output_type": "stream",
          "text": [
            "/usr/local/lib/python3.7/dist-packages/sklearn/utils/validation.py:993: DataConversionWarning: A column-vector y was passed when a 1d array was expected. Please change the shape of y to (n_samples, ), for example using ravel().\n",
            "  y = column_or_1d(y, warn=True)\n",
            "/usr/local/lib/python3.7/dist-packages/sklearn/linear_model/_logistic.py:818: ConvergenceWarning: lbfgs failed to converge (status=1):\n",
            "STOP: TOTAL NO. of ITERATIONS REACHED LIMIT.\n",
            "\n",
            "Increase the number of iterations (max_iter) or scale the data as shown in:\n",
            "    https://scikit-learn.org/stable/modules/preprocessing.html\n",
            "Please also refer to the documentation for alternative solver options:\n",
            "    https://scikit-learn.org/stable/modules/linear_model.html#logistic-regression\n",
            "  extra_warning_msg=_LOGISTIC_SOLVER_CONVERGENCE_MSG,\n",
            "/usr/local/lib/python3.7/dist-packages/sklearn/utils/validation.py:993: DataConversionWarning: A column-vector y was passed when a 1d array was expected. Please change the shape of y to (n_samples, ), for example using ravel().\n",
            "  y = column_or_1d(y, warn=True)\n",
            "/usr/local/lib/python3.7/dist-packages/sklearn/utils/validation.py:993: DataConversionWarning: A column-vector y was passed when a 1d array was expected. Please change the shape of y to (n_samples, ), for example using ravel().\n",
            "  y = column_or_1d(y, warn=True)\n",
            "/usr/local/lib/python3.7/dist-packages/sklearn/utils/validation.py:993: DataConversionWarning: A column-vector y was passed when a 1d array was expected. Please change the shape of y to (n_samples, ), for example using ravel().\n",
            "  y = column_or_1d(y, warn=True)\n",
            "/usr/local/lib/python3.7/dist-packages/sklearn/linear_model/_logistic.py:818: ConvergenceWarning: lbfgs failed to converge (status=1):\n",
            "STOP: TOTAL NO. of ITERATIONS REACHED LIMIT.\n",
            "\n",
            "Increase the number of iterations (max_iter) or scale the data as shown in:\n",
            "    https://scikit-learn.org/stable/modules/preprocessing.html\n",
            "Please also refer to the documentation for alternative solver options:\n",
            "    https://scikit-learn.org/stable/modules/linear_model.html#logistic-regression\n",
            "  extra_warning_msg=_LOGISTIC_SOLVER_CONVERGENCE_MSG,\n",
            "/usr/local/lib/python3.7/dist-packages/sklearn/utils/validation.py:993: DataConversionWarning: A column-vector y was passed when a 1d array was expected. Please change the shape of y to (n_samples, ), for example using ravel().\n",
            "  y = column_or_1d(y, warn=True)\n",
            "/usr/local/lib/python3.7/dist-packages/sklearn/utils/validation.py:993: DataConversionWarning: A column-vector y was passed when a 1d array was expected. Please change the shape of y to (n_samples, ), for example using ravel().\n",
            "  y = column_or_1d(y, warn=True)\n",
            "/usr/local/lib/python3.7/dist-packages/sklearn/utils/validation.py:993: DataConversionWarning: A column-vector y was passed when a 1d array was expected. Please change the shape of y to (n_samples, ), for example using ravel().\n",
            "  y = column_or_1d(y, warn=True)\n",
            "/usr/local/lib/python3.7/dist-packages/sklearn/utils/validation.py:993: DataConversionWarning: A column-vector y was passed when a 1d array was expected. Please change the shape of y to (n_samples, ), for example using ravel().\n",
            "  y = column_or_1d(y, warn=True)\n",
            "/usr/local/lib/python3.7/dist-packages/sklearn/utils/validation.py:993: DataConversionWarning: A column-vector y was passed when a 1d array was expected. Please change the shape of y to (n_samples, ), for example using ravel().\n",
            "  y = column_or_1d(y, warn=True)\n",
            "/usr/local/lib/python3.7/dist-packages/sklearn/utils/validation.py:993: DataConversionWarning: A column-vector y was passed when a 1d array was expected. Please change the shape of y to (n_samples, ), for example using ravel().\n",
            "  y = column_or_1d(y, warn=True)\n",
            "/usr/local/lib/python3.7/dist-packages/sklearn/utils/validation.py:993: DataConversionWarning: A column-vector y was passed when a 1d array was expected. Please change the shape of y to (n_samples, ), for example using ravel().\n",
            "  y = column_or_1d(y, warn=True)\n",
            "/usr/local/lib/python3.7/dist-packages/sklearn/utils/validation.py:993: DataConversionWarning: A column-vector y was passed when a 1d array was expected. Please change the shape of y to (n_samples, ), for example using ravel().\n",
            "  y = column_or_1d(y, warn=True)\n",
            "/usr/local/lib/python3.7/dist-packages/sklearn/utils/validation.py:993: DataConversionWarning: A column-vector y was passed when a 1d array was expected. Please change the shape of y to (n_samples, ), for example using ravel().\n",
            "  y = column_or_1d(y, warn=True)\n",
            "/usr/local/lib/python3.7/dist-packages/sklearn/utils/validation.py:993: DataConversionWarning: A column-vector y was passed when a 1d array was expected. Please change the shape of y to (n_samples, ), for example using ravel().\n",
            "  y = column_or_1d(y, warn=True)\n",
            "/usr/local/lib/python3.7/dist-packages/sklearn/utils/validation.py:993: DataConversionWarning: A column-vector y was passed when a 1d array was expected. Please change the shape of y to (n_samples, ), for example using ravel().\n",
            "  y = column_or_1d(y, warn=True)\n",
            "/usr/local/lib/python3.7/dist-packages/sklearn/utils/validation.py:993: DataConversionWarning: A column-vector y was passed when a 1d array was expected. Please change the shape of y to (n_samples, ), for example using ravel().\n",
            "  y = column_or_1d(y, warn=True)\n",
            "/usr/local/lib/python3.7/dist-packages/sklearn/linear_model/_logistic.py:818: ConvergenceWarning: lbfgs failed to converge (status=1):\n",
            "STOP: TOTAL NO. of ITERATIONS REACHED LIMIT.\n",
            "\n",
            "Increase the number of iterations (max_iter) or scale the data as shown in:\n",
            "    https://scikit-learn.org/stable/modules/preprocessing.html\n",
            "Please also refer to the documentation for alternative solver options:\n",
            "    https://scikit-learn.org/stable/modules/linear_model.html#logistic-regression\n",
            "  extra_warning_msg=_LOGISTIC_SOLVER_CONVERGENCE_MSG,\n",
            "/usr/local/lib/python3.7/dist-packages/sklearn/utils/validation.py:993: DataConversionWarning: A column-vector y was passed when a 1d array was expected. Please change the shape of y to (n_samples, ), for example using ravel().\n",
            "  y = column_or_1d(y, warn=True)\n",
            "/usr/local/lib/python3.7/dist-packages/sklearn/utils/validation.py:993: DataConversionWarning: A column-vector y was passed when a 1d array was expected. Please change the shape of y to (n_samples, ), for example using ravel().\n",
            "  y = column_or_1d(y, warn=True)\n",
            "/usr/local/lib/python3.7/dist-packages/sklearn/linear_model/_logistic.py:818: ConvergenceWarning: lbfgs failed to converge (status=1):\n",
            "STOP: TOTAL NO. of ITERATIONS REACHED LIMIT.\n",
            "\n",
            "Increase the number of iterations (max_iter) or scale the data as shown in:\n",
            "    https://scikit-learn.org/stable/modules/preprocessing.html\n",
            "Please also refer to the documentation for alternative solver options:\n",
            "    https://scikit-learn.org/stable/modules/linear_model.html#logistic-regression\n",
            "  extra_warning_msg=_LOGISTIC_SOLVER_CONVERGENCE_MSG,\n",
            "/usr/local/lib/python3.7/dist-packages/sklearn/utils/validation.py:993: DataConversionWarning: A column-vector y was passed when a 1d array was expected. Please change the shape of y to (n_samples, ), for example using ravel().\n",
            "  y = column_or_1d(y, warn=True)\n",
            "/usr/local/lib/python3.7/dist-packages/sklearn/utils/validation.py:993: DataConversionWarning: A column-vector y was passed when a 1d array was expected. Please change the shape of y to (n_samples, ), for example using ravel().\n",
            "  y = column_or_1d(y, warn=True)\n"
          ]
        },
        {
          "name": "stdout",
          "output_type": "stream",
          "text": [
            "Accuracy :  0.8913511939429238\n",
            "Classification Report : \n",
            "               precision    recall  f1-score   support\n",
            "\n",
            "           0       0.98      0.91      0.94       972\n",
            "           1       0.22      0.61      0.32        41\n",
            "\n",
            "    accuracy                           0.90      1013\n",
            "   macro avg       0.60      0.76      0.63      1013\n",
            "weighted avg       0.95      0.90      0.92      1013\n",
            "\n",
            "Confusion Metrix : \n",
            " [[882  90]\n",
            " [ 16  25]]\n",
            "time: 0.6881894089999996\n"
          ]
        }
      ],
      "source": [
        "model = LogisticRegression()\n",
        "t1_start = process_time() \n",
        "kfold = KFold(n_splits = 10, random_state = 1, shuffle = True)\n",
        "results = cross_val_score(model, res_x, res_y, scoring = 'accuracy', cv = kfold)\n",
        "predict = cross_val_predict(model, res_x , res_y,cv = 10)\n",
        "print(\"Accuracy : \", results.mean())\n",
        "print(\"Classification Report : \\n\", classification_report(predict, res_y))\n",
        "print(\"Confusion Metrix : \\n\", confusion_matrix(predict, res_y))\n",
        "t1_stop = process_time()\n",
        "print(\"time:\", t1_stop-t1_start)"
      ]
    },
    {
      "cell_type": "code",
      "execution_count": null,
      "metadata": {
        "id": "mSP2o9SchDfN"
      },
      "outputs": [],
      "source": []
    },
    {
      "cell_type": "code",
      "execution_count": null,
      "metadata": {
        "id": "jq6thh1RhDhZ"
      },
      "outputs": [],
      "source": []
    },
    {
      "cell_type": "code",
      "execution_count": null,
      "metadata": {
        "id": "SNYOeZkOhDlB"
      },
      "outputs": [],
      "source": []
    },
    {
      "cell_type": "code",
      "execution_count": null,
      "metadata": {
        "id": "PqT9o86Zez9W"
      },
      "outputs": [],
      "source": [
        "\n",
        "xgb_cls = xgb.XGBClassifier(objective=\"multi:softmax\", num_class=2)"
      ]
    },
    {
      "cell_type": "code",
      "execution_count": null,
      "metadata": {
        "colab": {
          "base_uri": "https://localhost:8080/"
        },
        "id": "6nvsXC-nfKXv",
        "outputId": "b32f330b-e5cd-4348-8914-ed0b90485fee"
      },
      "outputs": [
        {
          "data": {
            "text/plain": [
              "XGBClassifier(num_class=2, objective='multi:softmax')"
            ]
          },
          "execution_count": 13,
          "metadata": {},
          "output_type": "execute_result"
        }
      ],
      "source": [
        "xgb_cls.fit(X_train, y_train)"
      ]
    },
    {
      "cell_type": "code",
      "execution_count": null,
      "metadata": {
        "id": "ZE60-u2afMmi"
      },
      "outputs": [],
      "source": [
        "preds = xgb_cls.predict(X_test)"
      ]
    },
    {
      "cell_type": "code",
      "execution_count": null,
      "metadata": {
        "colab": {
          "base_uri": "https://localhost:8080/"
        },
        "id": "XyTVXgLlfPbi",
        "outputId": "167de77a-e77a-4112-8432-172b79b7f98a"
      },
      "outputs": [
        {
          "data": {
            "text/plain": [
              "0.8768472906403941"
            ]
          },
          "execution_count": 15,
          "metadata": {},
          "output_type": "execute_result"
        }
      ],
      "source": [
        "accuracy_score(y_test, preds)"
      ]
    },
    {
      "cell_type": "code",
      "execution_count": null,
      "metadata": {
        "id": "z3iyg0mmfSwQ"
      },
      "outputs": [],
      "source": []
    },
    {
      "cell_type": "code",
      "execution_count": null,
      "metadata": {
        "id": "ChVugBVav3aL"
      },
      "outputs": [],
      "source": []
    }
  ],
  "metadata": {
    "colab": {
      "collapsed_sections": [],
      "provenance": []
    },
    "kernelspec": {
      "display_name": "Python 3",
      "name": "python3"
    },
    "language_info": {
      "name": "python"
    }
  },
  "nbformat": 4,
  "nbformat_minor": 0
}
